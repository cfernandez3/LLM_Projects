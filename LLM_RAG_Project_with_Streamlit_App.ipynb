{
  "cells": [
    {
      "cell_type": "code",
      "execution_count": 1,
      "metadata": {
        "colab": {
          "base_uri": "https://localhost:8080/"
        },
        "id": "OLGWIkbLmS9x",
        "collapsed": true,
        "outputId": "312657c6-8f3d-4e1c-d879-54694f0e8b8e"
      },
      "outputs": [
        {
          "output_type": "stream",
          "name": "stdout",
          "text": [
            "Requirement already satisfied: openai in /usr/local/lib/python3.11/dist-packages (1.75.0)\n",
            "Requirement already satisfied: anyio<5,>=3.5.0 in /usr/local/lib/python3.11/dist-packages (from openai) (4.9.0)\n",
            "Requirement already satisfied: distro<2,>=1.7.0 in /usr/local/lib/python3.11/dist-packages (from openai) (1.9.0)\n",
            "Requirement already satisfied: httpx<1,>=0.23.0 in /usr/local/lib/python3.11/dist-packages (from openai) (0.28.1)\n",
            "Requirement already satisfied: jiter<1,>=0.4.0 in /usr/local/lib/python3.11/dist-packages (from openai) (0.9.0)\n",
            "Requirement already satisfied: pydantic<3,>=1.9.0 in /usr/local/lib/python3.11/dist-packages (from openai) (2.11.3)\n",
            "Requirement already satisfied: sniffio in /usr/local/lib/python3.11/dist-packages (from openai) (1.3.1)\n",
            "Requirement already satisfied: tqdm>4 in /usr/local/lib/python3.11/dist-packages (from openai) (4.67.1)\n",
            "Requirement already satisfied: typing-extensions<5,>=4.11 in /usr/local/lib/python3.11/dist-packages (from openai) (4.13.2)\n",
            "Requirement already satisfied: idna>=2.8 in /usr/local/lib/python3.11/dist-packages (from anyio<5,>=3.5.0->openai) (3.10)\n",
            "Requirement already satisfied: certifi in /usr/local/lib/python3.11/dist-packages (from httpx<1,>=0.23.0->openai) (2025.1.31)\n",
            "Requirement already satisfied: httpcore==1.* in /usr/local/lib/python3.11/dist-packages (from httpx<1,>=0.23.0->openai) (1.0.8)\n",
            "Requirement already satisfied: h11<0.15,>=0.13 in /usr/local/lib/python3.11/dist-packages (from httpcore==1.*->httpx<1,>=0.23.0->openai) (0.14.0)\n",
            "Requirement already satisfied: annotated-types>=0.6.0 in /usr/local/lib/python3.11/dist-packages (from pydantic<3,>=1.9.0->openai) (0.7.0)\n",
            "Requirement already satisfied: pydantic-core==2.33.1 in /usr/local/lib/python3.11/dist-packages (from pydantic<3,>=1.9.0->openai) (2.33.1)\n",
            "Requirement already satisfied: typing-inspection>=0.4.0 in /usr/local/lib/python3.11/dist-packages (from pydantic<3,>=1.9.0->openai) (0.4.0)\n",
            "Requirement already satisfied: pypdf in /usr/local/lib/python3.11/dist-packages (5.4.0)\n",
            "Requirement already satisfied: tiktoken in /usr/local/lib/python3.11/dist-packages (0.9.0)\n",
            "Requirement already satisfied: regex>=2022.1.18 in /usr/local/lib/python3.11/dist-packages (from tiktoken) (2024.11.6)\n",
            "Requirement already satisfied: requests>=2.26.0 in /usr/local/lib/python3.11/dist-packages (from tiktoken) (2.32.3)\n",
            "Requirement already satisfied: charset-normalizer<4,>=2 in /usr/local/lib/python3.11/dist-packages (from requests>=2.26.0->tiktoken) (3.4.1)\n",
            "Requirement already satisfied: idna<4,>=2.5 in /usr/local/lib/python3.11/dist-packages (from requests>=2.26.0->tiktoken) (3.10)\n",
            "Requirement already satisfied: urllib3<3,>=1.21.1 in /usr/local/lib/python3.11/dist-packages (from requests>=2.26.0->tiktoken) (2.3.0)\n",
            "Requirement already satisfied: certifi>=2017.4.17 in /usr/local/lib/python3.11/dist-packages (from requests>=2.26.0->tiktoken) (2025.1.31)\n",
            "Requirement already satisfied: langchain in /usr/local/lib/python3.11/dist-packages (0.3.24)\n",
            "Requirement already satisfied: langchain-core<1.0.0,>=0.3.55 in /usr/local/lib/python3.11/dist-packages (from langchain) (0.3.55)\n",
            "Requirement already satisfied: langchain-text-splitters<1.0.0,>=0.3.8 in /usr/local/lib/python3.11/dist-packages (from langchain) (0.3.8)\n",
            "Requirement already satisfied: langsmith<0.4,>=0.1.17 in /usr/local/lib/python3.11/dist-packages (from langchain) (0.3.33)\n",
            "Requirement already satisfied: pydantic<3.0.0,>=2.7.4 in /usr/local/lib/python3.11/dist-packages (from langchain) (2.11.3)\n",
            "Requirement already satisfied: SQLAlchemy<3,>=1.4 in /usr/local/lib/python3.11/dist-packages (from langchain) (2.0.40)\n",
            "Requirement already satisfied: requests<3,>=2 in /usr/local/lib/python3.11/dist-packages (from langchain) (2.32.3)\n",
            "Requirement already satisfied: PyYAML>=5.3 in /usr/local/lib/python3.11/dist-packages (from langchain) (6.0.2)\n",
            "Requirement already satisfied: tenacity!=8.4.0,<10.0.0,>=8.1.0 in /usr/local/lib/python3.11/dist-packages (from langchain-core<1.0.0,>=0.3.55->langchain) (9.1.2)\n",
            "Requirement already satisfied: jsonpatch<2.0,>=1.33 in /usr/local/lib/python3.11/dist-packages (from langchain-core<1.0.0,>=0.3.55->langchain) (1.33)\n",
            "Requirement already satisfied: packaging<25,>=23.2 in /usr/local/lib/python3.11/dist-packages (from langchain-core<1.0.0,>=0.3.55->langchain) (24.2)\n",
            "Requirement already satisfied: typing-extensions>=4.7 in /usr/local/lib/python3.11/dist-packages (from langchain-core<1.0.0,>=0.3.55->langchain) (4.13.2)\n",
            "Requirement already satisfied: httpx<1,>=0.23.0 in /usr/local/lib/python3.11/dist-packages (from langsmith<0.4,>=0.1.17->langchain) (0.28.1)\n",
            "Requirement already satisfied: orjson<4.0.0,>=3.9.14 in /usr/local/lib/python3.11/dist-packages (from langsmith<0.4,>=0.1.17->langchain) (3.10.16)\n",
            "Requirement already satisfied: requests-toolbelt<2.0.0,>=1.0.0 in /usr/local/lib/python3.11/dist-packages (from langsmith<0.4,>=0.1.17->langchain) (1.0.0)\n",
            "Requirement already satisfied: zstandard<0.24.0,>=0.23.0 in /usr/local/lib/python3.11/dist-packages (from langsmith<0.4,>=0.1.17->langchain) (0.23.0)\n",
            "Requirement already satisfied: annotated-types>=0.6.0 in /usr/local/lib/python3.11/dist-packages (from pydantic<3.0.0,>=2.7.4->langchain) (0.7.0)\n",
            "Requirement already satisfied: pydantic-core==2.33.1 in /usr/local/lib/python3.11/dist-packages (from pydantic<3.0.0,>=2.7.4->langchain) (2.33.1)\n",
            "Requirement already satisfied: typing-inspection>=0.4.0 in /usr/local/lib/python3.11/dist-packages (from pydantic<3.0.0,>=2.7.4->langchain) (0.4.0)\n",
            "Requirement already satisfied: charset-normalizer<4,>=2 in /usr/local/lib/python3.11/dist-packages (from requests<3,>=2->langchain) (3.4.1)\n",
            "Requirement already satisfied: idna<4,>=2.5 in /usr/local/lib/python3.11/dist-packages (from requests<3,>=2->langchain) (3.10)\n",
            "Requirement already satisfied: urllib3<3,>=1.21.1 in /usr/local/lib/python3.11/dist-packages (from requests<3,>=2->langchain) (2.3.0)\n",
            "Requirement already satisfied: certifi>=2017.4.17 in /usr/local/lib/python3.11/dist-packages (from requests<3,>=2->langchain) (2025.1.31)\n",
            "Requirement already satisfied: greenlet>=1 in /usr/local/lib/python3.11/dist-packages (from SQLAlchemy<3,>=1.4->langchain) (3.2.1)\n",
            "Requirement already satisfied: anyio in /usr/local/lib/python3.11/dist-packages (from httpx<1,>=0.23.0->langsmith<0.4,>=0.1.17->langchain) (4.9.0)\n",
            "Requirement already satisfied: httpcore==1.* in /usr/local/lib/python3.11/dist-packages (from httpx<1,>=0.23.0->langsmith<0.4,>=0.1.17->langchain) (1.0.8)\n",
            "Requirement already satisfied: h11<0.15,>=0.13 in /usr/local/lib/python3.11/dist-packages (from httpcore==1.*->httpx<1,>=0.23.0->langsmith<0.4,>=0.1.17->langchain) (0.14.0)\n",
            "Requirement already satisfied: jsonpointer>=1.9 in /usr/local/lib/python3.11/dist-packages (from jsonpatch<2.0,>=1.33->langchain-core<1.0.0,>=0.3.55->langchain) (3.0.0)\n",
            "Requirement already satisfied: sniffio>=1.1 in /usr/local/lib/python3.11/dist-packages (from anyio->httpx<1,>=0.23.0->langsmith<0.4,>=0.1.17->langchain) (1.3.1)\n",
            "Requirement already satisfied: langchain-openai in /usr/local/lib/python3.11/dist-packages (0.3.14)\n",
            "Requirement already satisfied: langchain-core<1.0.0,>=0.3.53 in /usr/local/lib/python3.11/dist-packages (from langchain-openai) (0.3.55)\n",
            "Requirement already satisfied: openai<2.0.0,>=1.68.2 in /usr/local/lib/python3.11/dist-packages (from langchain-openai) (1.75.0)\n",
            "Requirement already satisfied: tiktoken<1,>=0.7 in /usr/local/lib/python3.11/dist-packages (from langchain-openai) (0.9.0)\n",
            "Requirement already satisfied: langsmith<0.4,>=0.1.125 in /usr/local/lib/python3.11/dist-packages (from langchain-core<1.0.0,>=0.3.53->langchain-openai) (0.3.33)\n",
            "Requirement already satisfied: tenacity!=8.4.0,<10.0.0,>=8.1.0 in /usr/local/lib/python3.11/dist-packages (from langchain-core<1.0.0,>=0.3.53->langchain-openai) (9.1.2)\n",
            "Requirement already satisfied: jsonpatch<2.0,>=1.33 in /usr/local/lib/python3.11/dist-packages (from langchain-core<1.0.0,>=0.3.53->langchain-openai) (1.33)\n",
            "Requirement already satisfied: PyYAML>=5.3 in /usr/local/lib/python3.11/dist-packages (from langchain-core<1.0.0,>=0.3.53->langchain-openai) (6.0.2)\n",
            "Requirement already satisfied: packaging<25,>=23.2 in /usr/local/lib/python3.11/dist-packages (from langchain-core<1.0.0,>=0.3.53->langchain-openai) (24.2)\n",
            "Requirement already satisfied: typing-extensions>=4.7 in /usr/local/lib/python3.11/dist-packages (from langchain-core<1.0.0,>=0.3.53->langchain-openai) (4.13.2)\n",
            "Requirement already satisfied: pydantic<3.0.0,>=2.5.2 in /usr/local/lib/python3.11/dist-packages (from langchain-core<1.0.0,>=0.3.53->langchain-openai) (2.11.3)\n",
            "Requirement already satisfied: anyio<5,>=3.5.0 in /usr/local/lib/python3.11/dist-packages (from openai<2.0.0,>=1.68.2->langchain-openai) (4.9.0)\n",
            "Requirement already satisfied: distro<2,>=1.7.0 in /usr/local/lib/python3.11/dist-packages (from openai<2.0.0,>=1.68.2->langchain-openai) (1.9.0)\n",
            "Requirement already satisfied: httpx<1,>=0.23.0 in /usr/local/lib/python3.11/dist-packages (from openai<2.0.0,>=1.68.2->langchain-openai) (0.28.1)\n",
            "Requirement already satisfied: jiter<1,>=0.4.0 in /usr/local/lib/python3.11/dist-packages (from openai<2.0.0,>=1.68.2->langchain-openai) (0.9.0)\n",
            "Requirement already satisfied: sniffio in /usr/local/lib/python3.11/dist-packages (from openai<2.0.0,>=1.68.2->langchain-openai) (1.3.1)\n",
            "Requirement already satisfied: tqdm>4 in /usr/local/lib/python3.11/dist-packages (from openai<2.0.0,>=1.68.2->langchain-openai) (4.67.1)\n",
            "Requirement already satisfied: regex>=2022.1.18 in /usr/local/lib/python3.11/dist-packages (from tiktoken<1,>=0.7->langchain-openai) (2024.11.6)\n",
            "Requirement already satisfied: requests>=2.26.0 in /usr/local/lib/python3.11/dist-packages (from tiktoken<1,>=0.7->langchain-openai) (2.32.3)\n",
            "Requirement already satisfied: idna>=2.8 in /usr/local/lib/python3.11/dist-packages (from anyio<5,>=3.5.0->openai<2.0.0,>=1.68.2->langchain-openai) (3.10)\n",
            "Requirement already satisfied: certifi in /usr/local/lib/python3.11/dist-packages (from httpx<1,>=0.23.0->openai<2.0.0,>=1.68.2->langchain-openai) (2025.1.31)\n",
            "Requirement already satisfied: httpcore==1.* in /usr/local/lib/python3.11/dist-packages (from httpx<1,>=0.23.0->openai<2.0.0,>=1.68.2->langchain-openai) (1.0.8)\n",
            "Requirement already satisfied: h11<0.15,>=0.13 in /usr/local/lib/python3.11/dist-packages (from httpcore==1.*->httpx<1,>=0.23.0->openai<2.0.0,>=1.68.2->langchain-openai) (0.14.0)\n",
            "Requirement already satisfied: jsonpointer>=1.9 in /usr/local/lib/python3.11/dist-packages (from jsonpatch<2.0,>=1.33->langchain-core<1.0.0,>=0.3.53->langchain-openai) (3.0.0)\n",
            "Requirement already satisfied: orjson<4.0.0,>=3.9.14 in /usr/local/lib/python3.11/dist-packages (from langsmith<0.4,>=0.1.125->langchain-core<1.0.0,>=0.3.53->langchain-openai) (3.10.16)\n",
            "Requirement already satisfied: requests-toolbelt<2.0.0,>=1.0.0 in /usr/local/lib/python3.11/dist-packages (from langsmith<0.4,>=0.1.125->langchain-core<1.0.0,>=0.3.53->langchain-openai) (1.0.0)\n",
            "Requirement already satisfied: zstandard<0.24.0,>=0.23.0 in /usr/local/lib/python3.11/dist-packages (from langsmith<0.4,>=0.1.125->langchain-core<1.0.0,>=0.3.53->langchain-openai) (0.23.0)\n",
            "Requirement already satisfied: annotated-types>=0.6.0 in /usr/local/lib/python3.11/dist-packages (from pydantic<3.0.0,>=2.5.2->langchain-core<1.0.0,>=0.3.53->langchain-openai) (0.7.0)\n",
            "Requirement already satisfied: pydantic-core==2.33.1 in /usr/local/lib/python3.11/dist-packages (from pydantic<3.0.0,>=2.5.2->langchain-core<1.0.0,>=0.3.53->langchain-openai) (2.33.1)\n",
            "Requirement already satisfied: typing-inspection>=0.4.0 in /usr/local/lib/python3.11/dist-packages (from pydantic<3.0.0,>=2.5.2->langchain-core<1.0.0,>=0.3.53->langchain-openai) (0.4.0)\n",
            "Requirement already satisfied: charset-normalizer<4,>=2 in /usr/local/lib/python3.11/dist-packages (from requests>=2.26.0->tiktoken<1,>=0.7->langchain-openai) (3.4.1)\n",
            "Requirement already satisfied: urllib3<3,>=1.21.1 in /usr/local/lib/python3.11/dist-packages (from requests>=2.26.0->tiktoken<1,>=0.7->langchain-openai) (2.3.0)\n",
            "Requirement already satisfied: chromadb in /usr/local/lib/python3.11/dist-packages (1.0.7)\n",
            "Requirement already satisfied: build>=1.0.3 in /usr/local/lib/python3.11/dist-packages (from chromadb) (1.2.2.post1)\n",
            "Requirement already satisfied: pydantic>=1.9 in /usr/local/lib/python3.11/dist-packages (from chromadb) (2.11.3)\n",
            "Requirement already satisfied: chroma-hnswlib==0.7.6 in /usr/local/lib/python3.11/dist-packages (from chromadb) (0.7.6)\n",
            "Requirement already satisfied: fastapi==0.115.9 in /usr/local/lib/python3.11/dist-packages (from chromadb) (0.115.9)\n",
            "Requirement already satisfied: uvicorn>=0.18.3 in /usr/local/lib/python3.11/dist-packages (from uvicorn[standard]>=0.18.3->chromadb) (0.34.2)\n",
            "Requirement already satisfied: numpy>=1.22.5 in /usr/local/lib/python3.11/dist-packages (from chromadb) (2.0.2)\n",
            "Requirement already satisfied: posthog>=2.4.0 in /usr/local/lib/python3.11/dist-packages (from chromadb) (4.0.0)\n",
            "Requirement already satisfied: typing-extensions>=4.5.0 in /usr/local/lib/python3.11/dist-packages (from chromadb) (4.13.2)\n",
            "Requirement already satisfied: onnxruntime>=1.14.1 in /usr/local/lib/python3.11/dist-packages (from chromadb) (1.21.1)\n",
            "Requirement already satisfied: opentelemetry-api>=1.2.0 in /usr/local/lib/python3.11/dist-packages (from chromadb) (1.32.1)\n",
            "Requirement already satisfied: opentelemetry-exporter-otlp-proto-grpc>=1.2.0 in /usr/local/lib/python3.11/dist-packages (from chromadb) (1.32.1)\n",
            "Requirement already satisfied: opentelemetry-instrumentation-fastapi>=0.41b0 in /usr/local/lib/python3.11/dist-packages (from chromadb) (0.53b1)\n",
            "Requirement already satisfied: opentelemetry-sdk>=1.2.0 in /usr/local/lib/python3.11/dist-packages (from chromadb) (1.32.1)\n",
            "Requirement already satisfied: tokenizers>=0.13.2 in /usr/local/lib/python3.11/dist-packages (from chromadb) (0.21.1)\n",
            "Requirement already satisfied: pypika>=0.48.9 in /usr/local/lib/python3.11/dist-packages (from chromadb) (0.48.9)\n",
            "Requirement already satisfied: tqdm>=4.65.0 in /usr/local/lib/python3.11/dist-packages (from chromadb) (4.67.1)\n",
            "Requirement already satisfied: overrides>=7.3.1 in /usr/local/lib/python3.11/dist-packages (from chromadb) (7.7.0)\n",
            "Requirement already satisfied: importlib-resources in /usr/local/lib/python3.11/dist-packages (from chromadb) (6.5.2)\n",
            "Requirement already satisfied: grpcio>=1.58.0 in /usr/local/lib/python3.11/dist-packages (from chromadb) (1.71.0)\n",
            "Requirement already satisfied: bcrypt>=4.0.1 in /usr/local/lib/python3.11/dist-packages (from chromadb) (4.3.0)\n",
            "Requirement already satisfied: typer>=0.9.0 in /usr/local/lib/python3.11/dist-packages (from chromadb) (0.15.2)\n",
            "Requirement already satisfied: kubernetes>=28.1.0 in /usr/local/lib/python3.11/dist-packages (from chromadb) (32.0.1)\n",
            "Requirement already satisfied: tenacity>=8.2.3 in /usr/local/lib/python3.11/dist-packages (from chromadb) (9.1.2)\n",
            "Requirement already satisfied: pyyaml>=6.0.0 in /usr/local/lib/python3.11/dist-packages (from chromadb) (6.0.2)\n",
            "Requirement already satisfied: mmh3>=4.0.1 in /usr/local/lib/python3.11/dist-packages (from chromadb) (5.1.0)\n",
            "Requirement already satisfied: orjson>=3.9.12 in /usr/local/lib/python3.11/dist-packages (from chromadb) (3.10.16)\n",
            "Requirement already satisfied: httpx>=0.27.0 in /usr/local/lib/python3.11/dist-packages (from chromadb) (0.28.1)\n",
            "Requirement already satisfied: rich>=10.11.0 in /usr/local/lib/python3.11/dist-packages (from chromadb) (13.9.4)\n",
            "Requirement already satisfied: jsonschema>=4.19.0 in /usr/local/lib/python3.11/dist-packages (from chromadb) (4.23.0)\n",
            "Requirement already satisfied: starlette<0.46.0,>=0.40.0 in /usr/local/lib/python3.11/dist-packages (from fastapi==0.115.9->chromadb) (0.45.3)\n",
            "Requirement already satisfied: packaging>=19.1 in /usr/local/lib/python3.11/dist-packages (from build>=1.0.3->chromadb) (24.2)\n",
            "Requirement already satisfied: pyproject_hooks in /usr/local/lib/python3.11/dist-packages (from build>=1.0.3->chromadb) (1.2.0)\n",
            "Requirement already satisfied: anyio in /usr/local/lib/python3.11/dist-packages (from httpx>=0.27.0->chromadb) (4.9.0)\n",
            "Requirement already satisfied: certifi in /usr/local/lib/python3.11/dist-packages (from httpx>=0.27.0->chromadb) (2025.1.31)\n",
            "Requirement already satisfied: httpcore==1.* in /usr/local/lib/python3.11/dist-packages (from httpx>=0.27.0->chromadb) (1.0.8)\n",
            "Requirement already satisfied: idna in /usr/local/lib/python3.11/dist-packages (from httpx>=0.27.0->chromadb) (3.10)\n",
            "Requirement already satisfied: h11<0.15,>=0.13 in /usr/local/lib/python3.11/dist-packages (from httpcore==1.*->httpx>=0.27.0->chromadb) (0.14.0)\n",
            "Requirement already satisfied: attrs>=22.2.0 in /usr/local/lib/python3.11/dist-packages (from jsonschema>=4.19.0->chromadb) (25.3.0)\n",
            "Requirement already satisfied: jsonschema-specifications>=2023.03.6 in /usr/local/lib/python3.11/dist-packages (from jsonschema>=4.19.0->chromadb) (2024.10.1)\n",
            "Requirement already satisfied: referencing>=0.28.4 in /usr/local/lib/python3.11/dist-packages (from jsonschema>=4.19.0->chromadb) (0.36.2)\n",
            "Requirement already satisfied: rpds-py>=0.7.1 in /usr/local/lib/python3.11/dist-packages (from jsonschema>=4.19.0->chromadb) (0.24.0)\n",
            "Requirement already satisfied: six>=1.9.0 in /usr/local/lib/python3.11/dist-packages (from kubernetes>=28.1.0->chromadb) (1.17.0)\n",
            "Requirement already satisfied: python-dateutil>=2.5.3 in /usr/local/lib/python3.11/dist-packages (from kubernetes>=28.1.0->chromadb) (2.8.2)\n",
            "Requirement already satisfied: google-auth>=1.0.1 in /usr/local/lib/python3.11/dist-packages (from kubernetes>=28.1.0->chromadb) (2.38.0)\n",
            "Requirement already satisfied: websocket-client!=0.40.0,!=0.41.*,!=0.42.*,>=0.32.0 in /usr/local/lib/python3.11/dist-packages (from kubernetes>=28.1.0->chromadb) (1.8.0)\n",
            "Requirement already satisfied: requests in /usr/local/lib/python3.11/dist-packages (from kubernetes>=28.1.0->chromadb) (2.32.3)\n",
            "Requirement already satisfied: requests-oauthlib in /usr/local/lib/python3.11/dist-packages (from kubernetes>=28.1.0->chromadb) (2.0.0)\n",
            "Requirement already satisfied: oauthlib>=3.2.2 in /usr/local/lib/python3.11/dist-packages (from kubernetes>=28.1.0->chromadb) (3.2.2)\n",
            "Requirement already satisfied: urllib3>=1.24.2 in /usr/local/lib/python3.11/dist-packages (from kubernetes>=28.1.0->chromadb) (2.3.0)\n",
            "Requirement already satisfied: durationpy>=0.7 in /usr/local/lib/python3.11/dist-packages (from kubernetes>=28.1.0->chromadb) (0.9)\n",
            "Requirement already satisfied: coloredlogs in /usr/local/lib/python3.11/dist-packages (from onnxruntime>=1.14.1->chromadb) (15.0.1)\n",
            "Requirement already satisfied: flatbuffers in /usr/local/lib/python3.11/dist-packages (from onnxruntime>=1.14.1->chromadb) (25.2.10)\n",
            "Requirement already satisfied: protobuf in /usr/local/lib/python3.11/dist-packages (from onnxruntime>=1.14.1->chromadb) (5.29.4)\n",
            "Requirement already satisfied: sympy in /usr/local/lib/python3.11/dist-packages (from onnxruntime>=1.14.1->chromadb) (1.13.1)\n",
            "Requirement already satisfied: deprecated>=1.2.6 in /usr/local/lib/python3.11/dist-packages (from opentelemetry-api>=1.2.0->chromadb) (1.2.18)\n",
            "Requirement already satisfied: importlib-metadata<8.7.0,>=6.0 in /usr/local/lib/python3.11/dist-packages (from opentelemetry-api>=1.2.0->chromadb) (8.6.1)\n",
            "Requirement already satisfied: googleapis-common-protos~=1.52 in /usr/local/lib/python3.11/dist-packages (from opentelemetry-exporter-otlp-proto-grpc>=1.2.0->chromadb) (1.70.0)\n",
            "Requirement already satisfied: opentelemetry-exporter-otlp-proto-common==1.32.1 in /usr/local/lib/python3.11/dist-packages (from opentelemetry-exporter-otlp-proto-grpc>=1.2.0->chromadb) (1.32.1)\n",
            "Requirement already satisfied: opentelemetry-proto==1.32.1 in /usr/local/lib/python3.11/dist-packages (from opentelemetry-exporter-otlp-proto-grpc>=1.2.0->chromadb) (1.32.1)\n",
            "Requirement already satisfied: opentelemetry-instrumentation-asgi==0.53b1 in /usr/local/lib/python3.11/dist-packages (from opentelemetry-instrumentation-fastapi>=0.41b0->chromadb) (0.53b1)\n",
            "Requirement already satisfied: opentelemetry-instrumentation==0.53b1 in /usr/local/lib/python3.11/dist-packages (from opentelemetry-instrumentation-fastapi>=0.41b0->chromadb) (0.53b1)\n",
            "Requirement already satisfied: opentelemetry-semantic-conventions==0.53b1 in /usr/local/lib/python3.11/dist-packages (from opentelemetry-instrumentation-fastapi>=0.41b0->chromadb) (0.53b1)\n",
            "Requirement already satisfied: opentelemetry-util-http==0.53b1 in /usr/local/lib/python3.11/dist-packages (from opentelemetry-instrumentation-fastapi>=0.41b0->chromadb) (0.53b1)\n",
            "Requirement already satisfied: wrapt<2.0.0,>=1.0.0 in /usr/local/lib/python3.11/dist-packages (from opentelemetry-instrumentation==0.53b1->opentelemetry-instrumentation-fastapi>=0.41b0->chromadb) (1.17.2)\n",
            "Requirement already satisfied: asgiref~=3.0 in /usr/local/lib/python3.11/dist-packages (from opentelemetry-instrumentation-asgi==0.53b1->opentelemetry-instrumentation-fastapi>=0.41b0->chromadb) (3.8.1)\n",
            "Requirement already satisfied: monotonic>=1.5 in /usr/local/lib/python3.11/dist-packages (from posthog>=2.4.0->chromadb) (1.6)\n",
            "Requirement already satisfied: backoff>=1.10.0 in /usr/local/lib/python3.11/dist-packages (from posthog>=2.4.0->chromadb) (2.2.1)\n",
            "Requirement already satisfied: distro>=1.5.0 in /usr/local/lib/python3.11/dist-packages (from posthog>=2.4.0->chromadb) (1.9.0)\n",
            "Requirement already satisfied: annotated-types>=0.6.0 in /usr/local/lib/python3.11/dist-packages (from pydantic>=1.9->chromadb) (0.7.0)\n",
            "Requirement already satisfied: pydantic-core==2.33.1 in /usr/local/lib/python3.11/dist-packages (from pydantic>=1.9->chromadb) (2.33.1)\n",
            "Requirement already satisfied: typing-inspection>=0.4.0 in /usr/local/lib/python3.11/dist-packages (from pydantic>=1.9->chromadb) (0.4.0)\n",
            "Requirement already satisfied: markdown-it-py>=2.2.0 in /usr/local/lib/python3.11/dist-packages (from rich>=10.11.0->chromadb) (3.0.0)\n",
            "Requirement already satisfied: pygments<3.0.0,>=2.13.0 in /usr/local/lib/python3.11/dist-packages (from rich>=10.11.0->chromadb) (2.18.0)\n",
            "Requirement already satisfied: huggingface-hub<1.0,>=0.16.4 in /usr/local/lib/python3.11/dist-packages (from tokenizers>=0.13.2->chromadb) (0.30.2)\n",
            "Requirement already satisfied: click>=8.0.0 in /usr/local/lib/python3.11/dist-packages (from typer>=0.9.0->chromadb) (8.1.8)\n",
            "Requirement already satisfied: shellingham>=1.3.0 in /usr/local/lib/python3.11/dist-packages (from typer>=0.9.0->chromadb) (1.5.4)\n",
            "Requirement already satisfied: httptools>=0.6.3 in /usr/local/lib/python3.11/dist-packages (from uvicorn[standard]>=0.18.3->chromadb) (0.6.4)\n",
            "Requirement already satisfied: python-dotenv>=0.13 in /usr/local/lib/python3.11/dist-packages (from uvicorn[standard]>=0.18.3->chromadb) (1.1.0)\n",
            "Requirement already satisfied: uvloop!=0.15.0,!=0.15.1,>=0.14.0 in /usr/local/lib/python3.11/dist-packages (from uvicorn[standard]>=0.18.3->chromadb) (0.21.0)\n",
            "Requirement already satisfied: watchfiles>=0.13 in /usr/local/lib/python3.11/dist-packages (from uvicorn[standard]>=0.18.3->chromadb) (1.0.5)\n",
            "Requirement already satisfied: websockets>=10.4 in /usr/local/lib/python3.11/dist-packages (from uvicorn[standard]>=0.18.3->chromadb) (15.0.1)\n",
            "Requirement already satisfied: cachetools<6.0,>=2.0.0 in /usr/local/lib/python3.11/dist-packages (from google-auth>=1.0.1->kubernetes>=28.1.0->chromadb) (5.5.2)\n",
            "Requirement already satisfied: pyasn1-modules>=0.2.1 in /usr/local/lib/python3.11/dist-packages (from google-auth>=1.0.1->kubernetes>=28.1.0->chromadb) (0.4.2)\n",
            "Requirement already satisfied: rsa<5,>=3.1.4 in /usr/local/lib/python3.11/dist-packages (from google-auth>=1.0.1->kubernetes>=28.1.0->chromadb) (4.9.1)\n",
            "Requirement already satisfied: filelock in /usr/local/lib/python3.11/dist-packages (from huggingface-hub<1.0,>=0.16.4->tokenizers>=0.13.2->chromadb) (3.18.0)\n",
            "Requirement already satisfied: fsspec>=2023.5.0 in /usr/local/lib/python3.11/dist-packages (from huggingface-hub<1.0,>=0.16.4->tokenizers>=0.13.2->chromadb) (2024.12.0)\n",
            "Requirement already satisfied: zipp>=3.20 in /usr/local/lib/python3.11/dist-packages (from importlib-metadata<8.7.0,>=6.0->opentelemetry-api>=1.2.0->chromadb) (3.21.0)\n",
            "Requirement already satisfied: mdurl~=0.1 in /usr/local/lib/python3.11/dist-packages (from markdown-it-py>=2.2.0->rich>=10.11.0->chromadb) (0.1.2)\n",
            "Requirement already satisfied: charset-normalizer<4,>=2 in /usr/local/lib/python3.11/dist-packages (from requests->kubernetes>=28.1.0->chromadb) (3.4.1)\n",
            "Requirement already satisfied: sniffio>=1.1 in /usr/local/lib/python3.11/dist-packages (from anyio->httpx>=0.27.0->chromadb) (1.3.1)\n",
            "Requirement already satisfied: humanfriendly>=9.1 in /usr/local/lib/python3.11/dist-packages (from coloredlogs->onnxruntime>=1.14.1->chromadb) (10.0)\n",
            "Requirement already satisfied: mpmath<1.4,>=1.1.0 in /usr/local/lib/python3.11/dist-packages (from sympy->onnxruntime>=1.14.1->chromadb) (1.3.0)\n",
            "Requirement already satisfied: pyasn1<0.7.0,>=0.6.1 in /usr/local/lib/python3.11/dist-packages (from pyasn1-modules>=0.2.1->google-auth>=1.0.1->kubernetes>=28.1.0->chromadb) (0.6.1)\n"
          ]
        }
      ],
      "source": [
        "!pip install openai\n",
        "!pip install pypdf\n",
        "!pip install tiktoken\n",
        "!pip install langchain\n",
        "!pip install -q langchain langchain-community openai chromadb pypdf\n",
        "!pip install langchain-openai\n",
        "!pip install chromadb\n",
        "!pip install ragas datasets evaluate"
      ]
    },
    {
      "cell_type": "markdown",
      "metadata": {
        "id": "PmCiSqCncWYc"
      },
      "source": [
        "# Using Langchain to Load Documents"
      ]
    },
    {
      "cell_type": "code",
      "execution_count": 1,
      "metadata": {
        "id": "k0RkSSwbFKW2"
      },
      "outputs": [],
      "source": [
        "from langchain_community.document_loaders import PyPDFLoader"
      ]
    },
    {
      "cell_type": "code",
      "source": [
        "# 1. Download from GitHub\n",
        "import requests\n",
        "\n",
        "url = 'https://github.com/cfernandez3/LLM_Projects/raw/main/welcome-book-faculty-univ-staff.pdf'\n",
        "response = requests.get(url)\n",
        "\n",
        "with open('welcome_book.pdf', 'wb') as f:\n",
        "    f.write(response.content)\n",
        "\n",
        "loader = PyPDFLoader('welcome_book.pdf')\n",
        "pages = loader.load_and_split()\n",
        "\n",
        "# Show a preview of the first page\n",
        "print(pages[0].page_content[:1000])\n"
      ],
      "metadata": {
        "colab": {
          "base_uri": "https://localhost:8080/"
        },
        "id": "tMwYR2EMMWAU",
        "outputId": "30e85761-c7a1-4155-94b0-b065e04e0ece"
      },
      "execution_count": 2,
      "outputs": [
        {
          "output_type": "stream",
          "name": "stdout",
          "text": [
            "1\n",
            "2025 | Faculty and Gables/Marine Staff\n",
            "Yourjourneystartshere.\n",
            "2025 | FACULTY (NON-CLINICAL) \n",
            "AND CORAL GABLES/MARINE STAFF\n"
          ]
        }
      ]
    },
    {
      "cell_type": "code",
      "source": [
        "pages[10]"
      ],
      "metadata": {
        "colab": {
          "base_uri": "https://localhost:8080/"
        },
        "id": "FpdzqwE1NEaw",
        "outputId": "7bf0b07c-2374-4cef-fdb9-894a85f526fb",
        "collapsed": true
      },
      "execution_count": 3,
      "outputs": [
        {
          "output_type": "execute_result",
          "data": {
            "text/plain": [
              "Document(metadata={'producer': 'Adobe PDF Library 17.0', 'creator': 'Adobe InDesign 20.0 (Windows)', 'creationdate': '2024-12-09T18:10:26-05:00', 'moddate': '2024-12-09T18:10:34-05:00', 'title': 'Welcome Book - Faculty and Staff', 'trapped': '/False', 'source': 'welcome_book.pdf', 'total_pages': 41, 'page': 10, 'page_label': '11'}, page_content='11\\n2025 | Faculty and Gables/Marine Staff\\nUHEALTH TOTAL CARE\\nThis plan is designed to provide you and your family with top-tier healthcare services at a lower cost while giving you access to a network of primarily \\nUHealth and Jackson Health System providers and facilities. \\n \u2022 Lowest premiums and deductibles to ensure affordable care at all levels.\\n \u2022 Comprehensive coverage, including preventive care, diagnostics, and specialty services, all conveniently available at UM facilities\\n \u2022 UHealth Total Care gives you access to an exclusive network of primarily UHealth and Jackson Health System providers and facilities. This plan \\nalso includes access to Aetna network behavioral health and some ancillary providers. \\n \u2022 Plan has a $100 deductible per person, up to $300 per family. Once the deductible is met, participants pay copays for services. \\n \u2022 In-network preventive care is free and bypasses the deductible. Covered prescription drugs also bypass the deductible, but require copays.\\nSELECT 1 & SELECT 2\\n \u2022 Both plans offer access to a national network (Aetna Select Open Access) of providers and facilities. There are no out-of-network benefits. \\n \u2022 Select 1 plan has a $200 deductible per person, up to $600 per family. \\n \u2022 Select 2 plan has a $300 deductible per person, up to $900 per family.\\n \u2022 Once the deductible is met, participants pay copays for services. \\n \u2022 In-network preventive care is free and bypass the deductible. Covered prescription drugs also bypass the deductible, but require copays.\\nCHOICE POSII HRA\\n \u2022 HRA plan offers access to a national network (Choice POS II Open Access) of providers and facilities and out-of-network benefits (at higher costs\\n \u2022 HRA plan has an in-network $1,500 deductible per person, up to $4,500 per family. Out-of-network deductibles doubled.\\n \u2022 The plan has a $400 per person allowance (up to $1,200 per family) to help pay for up front medical and prescription expenses, including the de-\\nductibles. The unused allowance rolls over each year as long as you remain in this plan. \\n \u2022 In-network preventive care is free and bypasses the deductible. However, covered prescription drugs do not bypass the deductible, which must be \\nmet prior to copays.\\n2025 Medical Plans')"
            ]
          },
          "metadata": {},
          "execution_count": 3
        }
      ]
    },
    {
      "cell_type": "code",
      "source": [
        "from langchain.embeddings import OpenAIEmbeddings\n",
        "\n",
        "embeddings = OpenAIEmbeddings(openai_api_key=\"\")\n"
      ],
      "metadata": {
        "id": "ykHit90FgRBY"
      },
      "execution_count": 5,
      "outputs": []
    },
    {
      "cell_type": "code",
      "source": [
        "!pip install faiss-cpu\n"
      ],
      "metadata": {
        "colab": {
          "base_uri": "https://localhost:8080/"
        },
        "id": "4KUPExnOg5gd",
        "outputId": "88259e90-20aa-4750-84e0-b257295a4440"
      },
      "execution_count": 10,
      "outputs": [
        {
          "output_type": "stream",
          "name": "stdout",
          "text": [
            "Collecting faiss-cpu\n",
            "  Downloading faiss_cpu-1.10.0-cp311-cp311-manylinux_2_28_x86_64.whl.metadata (4.4 kB)\n",
            "Requirement already satisfied: numpy<3.0,>=1.25.0 in /usr/local/lib/python3.11/dist-packages (from faiss-cpu) (2.0.2)\n",
            "Requirement already satisfied: packaging in /usr/local/lib/python3.11/dist-packages (from faiss-cpu) (24.2)\n",
            "Downloading faiss_cpu-1.10.0-cp311-cp311-manylinux_2_28_x86_64.whl (30.7 MB)\n",
            "\u001b[2K   \u001b[90m\u2501\u2501\u2501\u2501\u2501\u2501\u2501\u2501\u2501\u2501\u2501\u2501\u2501\u2501\u2501\u2501\u2501\u2501\u2501\u2501\u2501\u2501\u2501\u2501\u2501\u2501\u2501\u2501\u2501\u2501\u2501\u2501\u2501\u2501\u2501\u2501\u2501\u2501\u2501\u2501\u001b[0m \u001b[32m30.7/30.7 MB\u001b[0m \u001b[31m36.6 MB/s\u001b[0m eta \u001b[36m0:00:00\u001b[0m\n",
            "\u001b[?25hInstalling collected packages: faiss-cpu\n",
            "Successfully installed faiss-cpu-1.10.0\n"
          ]
        }
      ]
    },
    {
      "cell_type": "code",
      "source": [
        "\n",
        "texts = [doc.page_content for doc in pages]\n",
        "faiss_db = FAISS.from_texts(texts, embedding=embeddings)\n",
        "faiss_db.save_local(\"vectorstore\")\n"
      ],
      "metadata": {
        "id": "cB_c-nQNgaMS"
      },
      "execution_count": 11,
      "outputs": []
    },
    {
      "cell_type": "code",
      "source": [
        "import shutil\n",
        "shutil.make_archive(\"vectorstore\", 'zip', \"vectorstore\")\n"
      ],
      "metadata": {
        "colab": {
          "base_uri": "https://localhost:8080/",
          "height": 36
        },
        "id": "2PyPFblRf2tt",
        "outputId": "1c742edc-9161-416e-fd2e-6d68b35f59b8"
      },
      "execution_count": 12,
      "outputs": [
        {
          "output_type": "execute_result",
          "data": {
            "text/plain": [
              "'/content/vectorstore.zip'"
            ],
            "application/vnd.google.colaboratory.intrinsic+json": {
              "type": "string"
            }
          },
          "metadata": {},
          "execution_count": 12
        }
      ]
    },
    {
      "cell_type": "code",
      "execution_count": 13,
      "metadata": {
        "id": "GqSC6zt3Gsdu"
      },
      "outputs": [],
      "source": [
        "from langchain_text_splitters import CharacterTextSplitter\n",
        "\n",
        "text_splitter = CharacterTextSplitter.from_tiktoken_encoder(chunk_size = 100, chunk_overlap = 0)\n",
        "texts = text_splitter.split_documents(pages)"
      ]
    },
    {
      "cell_type": "code",
      "execution_count": 14,
      "metadata": {
        "id": "4SLaKAFOHLCt",
        "colab": {
          "base_uri": "https://localhost:8080/"
        },
        "outputId": "0c27b400-5fde-4a0f-dd0a-ebfa749414ce"
      },
      "outputs": [
        {
          "output_type": "execute_result",
          "data": {
            "text/plain": [
              "Document(metadata={'producer': 'Adobe PDF Library 17.0', 'creator': 'Adobe InDesign 20.0 (Windows)', 'creationdate': '2024-12-09T18:10:26-05:00', 'moddate': '2024-12-09T18:10:34-05:00', 'title': 'Welcome Book - Faculty and Staff', 'trapped': '/False', 'source': 'welcome_book.pdf', 'total_pages': 41, 'page': 19, 'page_label': '20'}, page_content='20\\n2025 | Faculty and Gables/Marine Staff\\nUHealth World-Class Care\\nCOORDINATING YOUR CARE\\nKeeping your health care within UHealth means a more coordinated approach, as doctors can collaborate and have a clear picture of your overall \\nhealth. Rest assured that we take your privacy very seriously. As our clinical staff does with all patients, your records are kept confidential and private, \\nbefore, during and after your health care visits as legally required by the Health Insurance Portability and Accountability Act (HIPAA).\\n OUR GROWING NETWORK\\nWhen it comes to convenience, UHealth care is closer than you think. Besides the medical campus in downtown Miami, which is also minutes away \\nfrom the Rosenstiel Marine and Atmospheric Science campus, Coral Gables campus employees have The Lennar Foundation Medical Center for \\ncare. It is home to several specialties including Sylvester, Bascom Palmer, ENT, neurology, cardiology, urology, dermatology and more. \\nSylvester\u2019s Radiation Oncology clinic is home to the state-of-the-art Dwoskin Proton Therapy Center, offering the only proton treatment available at \\nan NCI-designated cancer center in the state of Florida. \\nYou can access UHealth\u2019s quality care at your convenience with UHealth Your Way. The virtual visits take place over a secure network and provide \\nyou with convenient access to UHealth physicians from the comfort of your home. In addition, we have primary care, multi-specialty and Walgreens \\nlocations across Miami-Dade, Broward, and Palm Beach counties.\\nPATIENT-CENTERED CARE\\nWe are dedicated to providing patient-centered care and understand that caring extends far beyond medical services. We want you and all of our \\npatients to know that your care, comfort and service expectations are our number one priority. In fact, UHealth is excelling nationally with top quartile \\nrankings in patient satisfaction! \\nUHealth\u2019s HCAHPS\u2014Hospital Consumer Assessment of Healthcare Providers and Systems - \\nscores for overall inpatient satisfaction for likelihood to recommend rank better than 76% of \\nnational Press Ganey clients and are on the rise! Press Ganey conducts patient satisfaction surveys \\nfor UHealth and 26,000 other health care organizations across the country.\\nBy choosing UHealth providers and services for your health care needs, you have confidence knowing that you are seeking care from recognized \\nexperts in their fields, receiving compassionate care from your colleagues and saving money!')"
            ]
          },
          "metadata": {},
          "execution_count": 14
        }
      ],
      "source": [
        "texts[20]"
      ]
    },
    {
      "cell_type": "markdown",
      "metadata": {
        "id": "1NvNHFzRckWO"
      },
      "source": [
        "# Using Tokens to Chunk Text"
      ]
    },
    {
      "cell_type": "code",
      "execution_count": 15,
      "metadata": {
        "id": "aiDgSc6NGZXy"
      },
      "outputs": [],
      "source": [
        "from langchain_text_splitters import RecursiveCharacterTextSplitter"
      ]
    },
    {
      "cell_type": "code",
      "execution_count": 16,
      "metadata": {
        "id": "78WmJfwqXH9U"
      },
      "outputs": [],
      "source": [
        "text_splitter = RecursiveCharacterTextSplitter.from_tiktoken_encoder(model_name = 'gpt-4',\n",
        "                                                                     chunk_size = 300,\n",
        "                                                                     chunk_overlap =50)\n",
        "texts = text_splitter.split_documents(pages)"
      ]
    },
    {
      "cell_type": "code",
      "execution_count": 17,
      "metadata": {
        "id": "ejy1BPmwXbGO",
        "colab": {
          "base_uri": "https://localhost:8080/"
        },
        "outputId": "14c1f20f-6256-4f3d-ae19-261a78993389"
      },
      "outputs": [
        {
          "output_type": "execute_result",
          "data": {
            "text/plain": [
              "Document(metadata={'producer': 'Adobe PDF Library 17.0', 'creator': 'Adobe InDesign 20.0 (Windows)', 'creationdate': '2024-12-09T18:10:26-05:00', 'moddate': '2024-12-09T18:10:34-05:00', 'title': 'Welcome Book - Faculty and Staff', 'trapped': '/False', 'source': 'welcome_book.pdf', 'total_pages': 41, 'page': 2, 'page_label': '3'}, page_content='3\\n2025 | Faculty and Gables/Marine Staff\\nTable\\nof Contents\\nDIRECCT Values 4\\nBefore Your First Day 5\\nDuring Your First Week 5\\nYour UM Experience  6\\nFind Help When You Need It 7\\nWhat\u2019s Happening at the U? 8\\n\u2019Canes Total Rewards 9\\nCommonly Used Terms 10\\n2025 Medical Plans 11\\nHealth Reimbursement Account   12\\n2025 Medical Plan Summary 13\\n2025 Medical Plan Comparison Chart 14\\n2025 Medical Plan Premiums    16\\nBehavioral & Mental Health     17\\nWell \u2018Canes Preventive Care    18\\nSave Money on Health Care    19\\nUHealth World-Class Care    20\\nHigh End Imaging    24\\nNeed Immediate Care?   25\\nPrescription Drugs    27\\nFlexible Spending Accounts   28\\nDental Plan Options    29\\nVision      30\\nStay Healthy and Well with Well \u2018Canes  31\\nFinancial Security Benefits    32\\nAdditional Protection   33\\nRetirement Savings     34\\nWhat are My Investment Options?   35\\nHow to Enroll      36\\nBenefits Dates & Deadlines   37\\nJust for \u2019Canes    39\\nTuition.io Partnership Program   40\\nFor More Information    41')"
            ]
          },
          "metadata": {},
          "execution_count": 17
        }
      ],
      "source": [
        "texts[2]"
      ]
    },
    {
      "cell_type": "markdown",
      "metadata": {
        "id": "NuuQwfPnczdd"
      },
      "source": [
        "# Create an OpenAI instance for Embedding Model"
      ]
    },
    {
      "cell_type": "code",
      "execution_count": 18,
      "metadata": {
        "id": "cQjqe-upMYTD"
      },
      "outputs": [],
      "source": [
        "from langchain_openai import OpenAIEmbeddings\n",
        "embeddings_model = OpenAIEmbeddings(api_key = '')"
      ]
    },
    {
      "cell_type": "markdown",
      "metadata": {
        "id": "vHnaB0xec4Cg"
      },
      "source": [
        "# Create Vector database with Chroma"
      ]
    },
    {
      "cell_type": "code",
      "execution_count": 19,
      "metadata": {
        "id": "CzkDARpmNAEt"
      },
      "outputs": [],
      "source": [
        "from langchain_community.vectorstores import Chroma\n",
        "db = Chroma.from_documents(texts, embeddings_model)"
      ]
    },
    {
      "cell_type": "markdown",
      "metadata": {
        "id": "jwT9trfec-NH"
      },
      "source": [
        "#Similarity search using a natural language query"
      ]
    },
    {
      "cell_type": "code",
      "execution_count": 20,
      "metadata": {
        "id": "TgGfPu4VNjNi",
        "colab": {
          "base_uri": "https://localhost:8080/"
        },
        "outputId": "9123b8f0-584c-41ee-bbc5-b70622268312"
      },
      "outputs": [
        {
          "output_type": "stream",
          "name": "stdout",
          "text": [
            "5\n",
            "2025 | Faculty and Gables/Marine Staff\n",
            "CREATE A CANE ID\n",
            "Visit workday.miami.edu to create a Cane ID and password.\n",
            "PROTECT YOUR CANE ID\n",
            "Complete Multi-Factor Authentication at caneid.miami.edu to ensure additional protection of your new Cane ID.\n",
            "LEARN ABOUT THE UNIVERSITY OF MIAMI\n",
            "Visit firstdays.miami.edu to learn more about working at the University of Miami.\n",
            "Before Your First Day\n",
            "During Your First Week\n",
            "GET A PARKING PERMIT\n",
            "Register your car and purchase a parking permit.  \n",
            "View the menu of options at miami.edu/parking (Coral Gables), earth.miami.edu/about-us/administration/campus-safety/\n",
            "parking/index.html (Marine), or med.miami.edu/offices/public-safety/parking-and-transportation (UHealth/Miller School).\n",
            " \n",
            "GET YOUR BENEFITS\n",
            "Make your benefit elections within 15 days of hire at workday.miami.edu. \n",
            "KNOW WHAT TO EXPECT\n",
            "Meet with your supervisor to familiarize yourself with the workplace and discuss your job role, performance \n",
            "expectations/goals, and any required training.\n"
          ]
        }
      ],
      "source": [
        "query = 'what are the first steps for a new UM employee?'\n",
        "docs = db.similarity_search(query)\n",
        "print(docs[0].page_content)"
      ]
    },
    {
      "cell_type": "markdown",
      "metadata": {
        "id": "oUVgl1wPdCTE"
      },
      "source": [
        "# Create a prompt for RAG application"
      ]
    },
    {
      "cell_type": "code",
      "source": [
        "prompt = f\"\"\"CONTEXT:\n",
        "{docs[0].page_content}\n",
        "\n",
        "INSTRUCTIONS:\n",
        "- You are an HR expert on University of Miami policies and operations.\n",
        "- Your role is to assist new employees by answering questions and guiding them through the initial setup of benefits, parking, and other general concerns related to their new employment.\n",
        "- Answer directly first, then provide any extra info if needed.\n",
        "\n",
        "RULES:\n",
        "- Base your answers ONLY on the context provided above.\n",
        "- If the answer is not found in the context, respond with \"I don't know.\"\n",
        "- Politely refuse to answer any question that is not related to University of Miami policies and operations.\n",
        "\n",
        "QUESTION:\n",
        "{query}\n",
        "\"\"\"\n",
        "print(prompt)\n"
      ],
      "metadata": {
        "colab": {
          "base_uri": "https://localhost:8080/"
        },
        "id": "adP6fIuQU13s",
        "outputId": "561463e4-742f-426f-9588-deb3c99824f8"
      },
      "execution_count": 21,
      "outputs": [
        {
          "output_type": "stream",
          "name": "stdout",
          "text": [
            "CONTEXT:\n",
            "5\n",
            "2025 | Faculty and Gables/Marine Staff\n",
            "CREATE A CANE ID\n",
            "Visit workday.miami.edu to create a Cane ID and password.\n",
            "PROTECT YOUR CANE ID\n",
            "Complete Multi-Factor Authentication at caneid.miami.edu to ensure additional protection of your new Cane ID.\n",
            "LEARN ABOUT THE UNIVERSITY OF MIAMI\n",
            "Visit firstdays.miami.edu to learn more about working at the University of Miami.\n",
            "Before Your First Day\n",
            "During Your First Week\n",
            "GET A PARKING PERMIT\n",
            "Register your car and purchase a parking permit.  \n",
            "View the menu of options at miami.edu/parking (Coral Gables), earth.miami.edu/about-us/administration/campus-safety/\n",
            "parking/index.html (Marine), or med.miami.edu/offices/public-safety/parking-and-transportation (UHealth/Miller School).\n",
            " \n",
            "GET YOUR BENEFITS\n",
            "Make your benefit elections within 15 days of hire at workday.miami.edu. \n",
            "KNOW WHAT TO EXPECT\n",
            "Meet with your supervisor to familiarize yourself with the workplace and discuss your job role, performance \n",
            "expectations/goals, and any required training.\n",
            "\n",
            "INSTRUCTIONS:\n",
            "- You are an HR expert on University of Miami policies and operations. \n",
            "- Your role is to assist new employees by answering questions and guiding them through the initial setup of benefits, parking, and other general concerns related to their new employment.\n",
            "- Answer directly first, then provide any extra info if needed.\n",
            "\n",
            "RULES:\n",
            "- Base your answers ONLY on the context provided above.\n",
            "- If the answer is not found in the context, respond with \"I don't know.\"\n",
            "- Politely refuse to answer any question that is not related to University of Miami policies and operations.\n",
            "\n",
            "QUESTION:\n",
            "what are the first steps for a new UM employee?\n",
            "\n"
          ]
        }
      ]
    },
    {
      "cell_type": "markdown",
      "metadata": {
        "id": "f0m52_ogdGlL"
      },
      "source": [
        "# Create prompting function"
      ]
    },
    {
      "cell_type": "code",
      "execution_count": 22,
      "metadata": {
        "id": "5SclrdHuPiA-"
      },
      "outputs": [],
      "source": [
        "from openai import OpenAI\n",
        "client = OpenAI(api_key = '')\n",
        "\n",
        "#create prompting function\n",
        "def prompt_function(prompt: str):\n",
        "  response = client.chat.completions.create(\n",
        "    model=\"gpt-3.5-turbo\",\n",
        "    messages=[\n",
        "      {\n",
        "        \"role\": \"user\",\n",
        "        \"content\": prompt\n",
        "      }\n",
        "    ],\n",
        "    temperature=0.3,\n",
        "    max_tokens=256,\n",
        "    top_p=1,\n",
        "    frequency_penalty=0,\n",
        "    presence_penalty=0\n",
        "  )\n",
        "  return response.choices[0].message.content"
      ]
    },
    {
      "cell_type": "code",
      "execution_count": 23,
      "metadata": {
        "id": "VJQrTiMOPn9n",
        "colab": {
          "base_uri": "https://localhost:8080/",
          "height": 53
        },
        "outputId": "015eb553-f650-4dd4-9cd4-ac91f5d92780",
        "collapsed": true
      },
      "outputs": [
        {
          "output_type": "execute_result",
          "data": {
            "text/plain": [
              "'The first steps for a new UM employee would be to create a Cane ID and password, complete Multi-Factor Authentication, learn about the University of Miami, get a parking permit, make benefit elections, and meet with their supervisor to discuss their job role and expectations.'"
            ],
            "application/vnd.google.colaboratory.intrinsic+json": {
              "type": "string"
            }
          },
          "metadata": {},
          "execution_count": 23
        }
      ],
      "source": [
        "#print response\n",
        "prompt_function(prompt)"
      ]
    },
    {
      "cell_type": "markdown",
      "source": [
        "# log_interaction() function"
      ],
      "metadata": {
        "id": "zwC7JLtQRk4c"
      }
    },
    {
      "cell_type": "code",
      "source": [
        "import csv\n",
        "from datetime import datetime\n",
        "\n",
        "def log_interaction(query, answer, docs, k=8):\n",
        "    with open(\"rag_logs.csv\", mode=\"a\", newline=\"\", encoding=\"utf-8\") as file:\n",
        "        writer = csv.writer(file)\n",
        "        writer.writerow([\n",
        "            datetime.now().isoformat(),\n",
        "            query,\n",
        "            \"\\n\\n\".join(doc.page_content for doc in docs),\n",
        "            answer,\n",
        "            k\n",
        "        ])\n"
      ],
      "metadata": {
        "id": "RwnxrqmoReJ4"
      },
      "execution_count": 24,
      "outputs": []
    },
    {
      "cell_type": "markdown",
      "metadata": {
        "id": "xNaAqGvQdJFl"
      },
      "source": [
        "# RAG function"
      ]
    },
    {
      "cell_type": "code",
      "source": [
        "def RAG(query: str):\n",
        "    # Create embedding for the query\n",
        "    embedding_vector = embeddings_model.embed_query(query)\n",
        "\n",
        "    # Semantic search on vector DB\n",
        "    docs = db.similarity_search_by_vector(embedding_vector, k=8)\n",
        "\n",
        "    # Combine top docs into a single context string\n",
        "    context = \"\\n\\n\".join(doc.page_content for doc in docs)\n",
        "\n",
        "    # Create the prompt\n",
        "    prompt = f\"\"\"\n",
        "CONTEXT:\n",
        "{context}\n",
        "\n",
        "INSTRUCTIONS:\n",
        "- You are an HR expert on University of Miami policies and operations.\n",
        "- Your role is to assist new employees by answering questions and guiding them through the initial setup of benefits, parking, and other general concerns related to their new employment.\n",
        "- Answer directly first, then provide any extra info if needed.\n",
        "\n",
        "RULES:\n",
        "- Use only the provided context above to answer the question.\n",
        "- If the answer is not in the context, say \"I don't know.\"\n",
        "- Refuse to answer questions unrelated to the University of Miami.\n",
        "\n",
        "QUESTION:\n",
        "{query}\n",
        "\"\"\"\n",
        "\n",
        "    # Run the LLM and get result\n",
        "    answer = prompt_function(prompt)\n",
        "\n",
        "    # \u2705 Log query, context, and answer\n",
        "    log_interaction(query, answer, docs, k=8)\n",
        "\n",
        "    return answer\n"
      ],
      "metadata": {
        "id": "mRoFUibuSZ0Z"
      },
      "execution_count": 25,
      "outputs": []
    },
    {
      "cell_type": "markdown",
      "metadata": {
        "id": "wAVw9Wsgo5Oc"
      },
      "source": [
        "# Using the RAG Application"
      ]
    },
    {
      "cell_type": "code",
      "source": [
        "query = \"What are the medical plans available?\"\n",
        "response = RAG(query)\n",
        "print(response)"
      ],
      "metadata": {
        "id": "Ul3jDIGTfWF7",
        "colab": {
          "base_uri": "https://localhost:8080/"
        },
        "outputId": "75d1ab21-d7fd-4c1e-b99d-ff5ace5b72db"
      },
      "execution_count": 26,
      "outputs": [
        {
          "output_type": "stream",
          "name": "stdout",
          "text": [
            "The medical plans available for University of Miami faculty and Gables/Marine staff in 2025 are UHealth Total Care, Select 1, Select 2, and Choice POSII HRA.\n"
          ]
        }
      ]
    },
    {
      "cell_type": "code",
      "source": [
        "query = \"What are the medical plan premium prices?\"\n",
        "response = RAG(query)\n",
        "print(response)"
      ],
      "metadata": {
        "id": "268zwvtLfb_8",
        "colab": {
          "base_uri": "https://localhost:8080/"
        },
        "outputId": "4419cc71-5313-4cb2-df7a-356cf4662d0c"
      },
      "execution_count": 27,
      "outputs": [
        {
          "output_type": "stream",
          "name": "stdout",
          "text": [
            "The medical plan premium prices vary depending on the plan and the coverage level. For example, for the UHealth Total Care plan, the monthly pre-tax premium for Employee Only ranges from $4.15 to $37.58, while for Employee + Family, it ranges from $16.98 to $144.52. For more specific premium prices, you can visit benefits.miami.edu.\n"
          ]
        }
      ]
    },
    {
      "cell_type": "code",
      "source": [
        "query = \"What is the HRA?\"\n",
        "response = RAG(query)\n",
        "print(response)\n"
      ],
      "metadata": {
        "colab": {
          "base_uri": "https://localhost:8080/"
        },
        "id": "iJ9NQFKcaG0G",
        "outputId": "360b4174-3a3f-411d-8c08-3535d8540f99"
      },
      "execution_count": 19,
      "outputs": [
        {
          "output_type": "stream",
          "name": "stdout",
          "text": [
            "The Health Reimbursement Account (HRA) is a fund provided by the University of Miami to help employees pay for their deductible ($1,500 individual/$4,500 family) and other eligible medical and pharmacy expenses. Participants receive a HealthEquity Visa card pre-loaded with a fund ($400 per person; up to $1,200 per family) to use for these expenses. The fund is administered by HealthEquity and can be used for medical and pharmacy expenses until depleted, after which participants pay the negotiated rates for their expenses until their deductible is met.\n"
          ]
        }
      ]
    },
    {
      "cell_type": "code",
      "source": [
        "query = \"How many people work for UM?\"\n",
        "response = RAG(query)\n",
        "print(response)"
      ],
      "metadata": {
        "colab": {
          "base_uri": "https://localhost:8080/"
        },
        "id": "HSXhdjZvej2N",
        "outputId": "2be46e00-85e5-481e-a003-a19e91a084b7"
      },
      "execution_count": 20,
      "outputs": [
        {
          "output_type": "stream",
          "name": "stdout",
          "text": [
            "Approximately 18,000 faculty and staff work for the University of Miami.\n"
          ]
        }
      ]
    },
    {
      "cell_type": "code",
      "source": [
        "query = \"What are my investment options for retirement?\"\n",
        "response = RAG(query)\n",
        "print(response)"
      ],
      "metadata": {
        "id": "gNPJ-7c16Msv",
        "colab": {
          "base_uri": "https://localhost:8080/"
        },
        "outputId": "18479f3b-261f-48d0-80d1-d1bf8919f9d1"
      },
      "execution_count": 21,
      "outputs": [
        {
          "output_type": "stream",
          "name": "stdout",
          "text": [
            "Your investment options for retirement at the University of Miami include Tier One Fidelity Freedom Index Funds, Tier Two Passive and Active Mutual Funds, Tier Three TIAA-CREF Annuities, and Tier Four Fidelity BrokerageLink. Each tier offers different investment choices based on your risk tolerance and investment preferences.\n"
          ]
        }
      ]
    },
    {
      "cell_type": "code",
      "source": [
        "#Question that should prompt a \"I dont know\"\n",
        "query = \"Could I paint my office on blue color?\"\n",
        "response = RAG(query)\n",
        "print(response)"
      ],
      "metadata": {
        "id": "m-7xsmyV6Mj8",
        "colab": {
          "base_uri": "https://localhost:8080/"
        },
        "outputId": "09490d1e-ae37-4e61-dc2e-9f56ebb28fa0"
      },
      "execution_count": 22,
      "outputs": [
        {
          "output_type": "stream",
          "name": "stdout",
          "text": [
            "I don't know.\n"
          ]
        }
      ]
    },
    {
      "cell_type": "markdown",
      "source": [
        "# RAGAS to Evaluate the RAG Application"
      ],
      "metadata": {
        "id": "hbcHWmD21BVa"
      }
    },
    {
      "cell_type": "code",
      "source": [
        "import os\n",
        "os.environ[\"OPENAI_API_KEY\"] = \"\"\n"
      ],
      "metadata": {
        "id": "j6v5Z-_K3De4"
      },
      "execution_count": 28,
      "outputs": []
    },
    {
      "cell_type": "code",
      "source": [
        "from datasets import Dataset\n",
        "\n",
        "# Provide your test questions\n",
        "test_questions = [\n",
        "    \"How do I apply for a UM parking permit?\",\n",
        "    \"What benefits are offered to new employees?\",\n",
        "    \"Where do I go to set up my UM email?\",\n",
        "    \"How do I enroll in health insurance?\",\n",
        "    \"What are the financial security benefits offered by UM at not cost?\",\n",
        "    \"What are the DIRECCT Values at UM?\",\n",
        "    \"Are free flu shots available for UM employees \"\n",
        "]\n",
        "\n",
        "# Provide ground truths (must be same order as test_questions)\n",
        "ground_truths = [\n",
        "    \"You can apply for a UM parking permit by visiting miami.edu/parking and completing the online form.\",\n",
        "    \"New employees receive health, dental, vision, retirement, and tuition benefits. Full list at miami.edu/hr/benefits.\",\n",
        "    \"To set up your UM email, log in to CaneID and access your mailbox through Outlook or the UM portal.\",\n",
        "    \"Enrollment is done online via Workday. You must enroll within 14 days of your start date.\",\n",
        "    \"Life Insurance, Accidental Death & Dismemberment (AD&D), Long-Term Disability (LTD), One Month's Pay Death Benefit.\",\n",
        "    \"DIVERSITY, INTEGRITY, RESPONSIBILITY, EXCELLENCE, COMPASSION, CREATIVITY, TEAMWORK\",\n",
        "    \"Free flu shots are offered during flu season at the annual HR-Total Rewards fairs, Healthy \u2019Canes Employee Clinic, and UHealth at Walgreens.\"\n",
        "]\n",
        "\n",
        "# Generate the dataset\n",
        "def create_ragas_dataset(test_questions, ground_truths=None, k=2):\n",
        "    dataset_entries = []\n",
        "\n",
        "    for i, question in enumerate(test_questions):\n",
        "        # Embed and retrieve\n",
        "        embedding_vector = embeddings_model.embed_query(question)\n",
        "        docs = db.similarity_search_by_vector(embedding_vector, k=k)\n",
        "        context_passages = [doc.page_content for doc in docs]\n",
        "\n",
        "        # Create prompt and get answer\n",
        "        context = \"\\n\\n\".join(context_passages)\n",
        "        prompt = f\"\"\"\n",
        "CONTEXT:\n",
        "{context}\n",
        "\n",
        "INSTRUCTIONS:\n",
        "- You are an HR expert on University of Miami policies and operations.\n",
        "- Your role is to assist new employees by answering questions and guiding them through the initial setup of benefits, parking, and other general concerns related to their new employment.\n",
        "- Answer directly first, then provide any extra info if needed.\n",
        "\n",
        "RULES:\n",
        "- Use only the provided context above to answer the question.\n",
        "- If the answer is not in the context, say \"I don't know.\"\n",
        "- Refuse to answer questions unrelated to the University of Miami.\n",
        "\n",
        "QUESTION:\n",
        "{question}\n",
        "\"\"\"\n",
        "        answer = prompt_function(prompt)\n",
        "\n",
        "        # Create record\n",
        "        entry = {\n",
        "            \"question\": question,\n",
        "            \"contexts\": context_passages,\n",
        "            \"answer\": answer,\n",
        "        }\n",
        "\n",
        "        # Add ground truth if provided\n",
        "        if ground_truths and i < len(ground_truths):\n",
        "            entry[\"ground_truth\"] = ground_truths[i]\n",
        "\n",
        "        dataset_entries.append(entry)\n",
        "\n",
        "    return Dataset.from_list(dataset_entries)\n",
        "\n",
        "# RAGAS dataset\n",
        "ragas_dataset = create_ragas_dataset(test_questions, ground_truths)\n",
        "\n",
        "# Preview sample entry\n",
        "print(ragas_dataset[0])\n"
      ],
      "metadata": {
        "colab": {
          "base_uri": "https://localhost:8080/"
        },
        "id": "UqHHgHssysGu",
        "outputId": "6bebe36b-e168-43c9-e857-441a4af9c1b9"
      },
      "execution_count": 24,
      "outputs": [
        {
          "output_type": "stream",
          "name": "stdout",
          "text": [
            "{'question': 'How do I apply for a UM parking permit?', 'contexts': ['5\\n2025 | Faculty and Gables/Marine Staff\\nCREATE A CANE ID\\nVisit workday.miami.edu to create a Cane ID and password.\\nPROTECT YOUR CANE ID\\nComplete Multi-Factor Authentication at caneid.miami.edu to ensure additional protection of your new Cane ID.\\nLEARN ABOUT THE UNIVERSITY OF MIAMI\\nVisit firstdays.miami.edu to learn more about working at the University of Miami.\\nBefore Your First Day\\nDuring Your First Week\\nGET A PARKING PERMIT\\nRegister your car and purchase a parking permit.  \\nView the menu of options at miami.edu/parking (Coral Gables), earth.miami.edu/about-us/administration/campus-safety/\\nparking/index.html (Marine), or med.miami.edu/offices/public-safety/parking-and-transportation (UHealth/Miller School).\\n \\nGET YOUR BENEFITS\\nMake your benefit elections within 15 days of hire at workday.miami.edu. \\nKNOW WHAT TO EXPECT\\nMeet with your supervisor to familiarize yourself with the workplace and discuss your job role, performance \\nexpectations/goals, and any required training.', '39\\n2025 | Faculty and Gables/Marine Staff\\nEMPLOYEE DISCOUNT PROGRAM\\nAs a UM employee, you are eligible to receive discounts on a number of products and services, including the below and more: \\n\u2022 Apple \\n\u2022 Bascom Palmer Aesthetic Center\\n\u2022 Bascom Palmer Eye Institute\\n\u2022 Cosford Cinema\\n\u2022 Dell\\n\u2022 Expedia Cruise Ship Centers\\n\u2022 FTD\\n\u2022 Lowe Art Museum\\nLEADERSHIP & PROFESSIONAL DEVELOPMENT\\nUM employees are encouraged to learn, inspire others, and grow professionally through HR\u2019s Talent and Organizational Development \\nleadership and professional development opportunities. \\n \\nLearn at your own pace. Enhance your professional development by accessing the ULearn catalogue of over 8,500 audio and video, on-\\ndemand courses, to help advance your career at the U.  \\n \\nInspire others by volunteering as a UFacilitator to impact our workforce from day one by showing new employees why it\u2019s great to be a Miami \\nHurricane. You will gain exposure and grow in your presentation and facilitation skills. \\nGrow and be a lifelong learner by attending webinars in the areas of communication, collaboration, self-awareness, organizational skills, and \\ntime management just to name a few. Grow as a leader and attend programs such as Essentials of Leadership (EOL) and Lead and Manage \\nBootcamp.'], 'answer': 'To apply for a UM parking permit, you need to register your car and purchase a parking permit. You can view the menu of options for Coral Gables at miami.edu/parking, for Marine at earth.miami.edu/about-us/administration/campus-safety/parking/index.html, or for UHealth/Miller School at med.miami.edu/offices/public-safety/parking-and-transportation.', 'ground_truth': 'You can apply for a UM parking permit by visiting miami.edu/parking and completing the online form.'}\n"
          ]
        }
      ]
    },
    {
      "cell_type": "code",
      "source": [
        "from ragas import evaluate\n",
        "from ragas.metrics import faithfulness, answer_relevancy, context_precision, context_recall\n",
        "\n",
        "results = evaluate(\n",
        "    ragas_dataset,\n",
        "    metrics=[faithfulness, answer_relevancy, context_precision, context_recall]\n",
        ")\n",
        "\n",
        "print(results)\n"
      ],
      "metadata": {
        "colab": {
          "base_uri": "https://localhost:8080/",
          "height": 66,
          "referenced_widgets": [
            "23718f51508940d58f1f6c2387f0bfc6",
            "d8c15a75655f4e4f9a391497a1ed2585",
            "1af880bf56444215a96317049ab5731e",
            "b6a69f7e01ee4a9687ff08ec3fc9acb3",
            "6cbe39e9a0dc48a9ae441b4363a964c2",
            "74232467cd3f4cf59ca169770603a72a",
            "683117dd5092452f93bf6f6815b8bb67",
            "feae791d9a374e65bc722ac8f44da1cb",
            "e02a33d83c124dcdb879d87c23e483d2",
            "1fc53e02a20640dea6b680956705dd18",
            "6c07213fc78946738a6f7bc054436cdb"
          ]
        },
        "id": "USw40Fkq5JZD",
        "outputId": "81bf6d8c-488a-4315-dde5-feaf5623a8fc"
      },
      "execution_count": 25,
      "outputs": [
        {
          "output_type": "display_data",
          "data": {
            "text/plain": [
              "Evaluating:   0%|          | 0/28 [00:00<?, ?it/s]"
            ],
            "application/vnd.jupyter.widget-view+json": {
              "version_major": 2,
              "version_minor": 0,
              "model_id": "23718f51508940d58f1f6c2387f0bfc6"
            }
          },
          "metadata": {}
        },
        {
          "output_type": "stream",
          "name": "stdout",
          "text": [
            "{'faithfulness': 0.8571, 'answer_relevancy': 0.8112, 'context_precision': 0.4286, 'context_recall': 0.1429}\n"
          ]
        }
      ]
    },
    {
      "cell_type": "markdown",
      "source": [
        "# *Streamlit App*"
      ],
      "metadata": {
        "id": "ciJIvCXTUGFU"
      }
    },
    {
      "cell_type": "code",
      "source": [
        "import csv\n",
        "from datetime import datetime\n",
        "\n",
        "def log_interaction(query, answer, docs, k=8):\n",
        "    with open(\"rag_logs.csv\", mode=\"a\", newline=\"\", encoding=\"utf-8\") as f:\n",
        "        writer = csv.writer(f)\n",
        "        writer.writerow([\n",
        "            datetime.now().isoformat(),\n",
        "            query,\n",
        "            \"\\n\\n\".join(doc.page_content for doc in docs),\n",
        "            answer,\n",
        "            k\n",
        "        ])\n",
        "\n",
        "def RAG(query: str):\n",
        "    embedding_vector = embeddings_model.embed_query(query)\n",
        "    k = 8\n",
        "    docs = db.similarity_search_by_vector(embedding_vector, k=k)\n",
        "    context = \"\\n\\n\".join(doc.page_content for doc in docs)\n",
        "\n",
        "    prompt = f\"\"\"\n",
        "CONTEXT:\n",
        "{context}\n",
        "\n",
        "INSTRUCTIONS:\n",
        "- You are an HR expert on University of Miami policies and operations.\n",
        "- Your role is to assist new employees by answering questions and guiding them through the initial setup of benefits, parking, and other general concerns related to their new employment.\n",
        "- Answer directly first, then provide any extra info if needed.\n",
        "\n",
        "RULES:\n",
        "- Use only the provided context above to answer the question.\n",
        "- If the answer is not in the context, say \"I don't know.\"\n",
        "- Refuse to answer questions unrelated to the University of Miami.\n",
        "\n",
        "QUESTION:\n",
        "{query}\n",
        "\"\"\"\n",
        "    answer = prompt_function(prompt)\n",
        "    log_interaction(query, answer, docs, k)\n",
        "    return answer\n"
      ],
      "metadata": {
        "id": "1nYz7YZDoUcZ"
      },
      "execution_count": 32,
      "outputs": []
    }
  ],
  "metadata": {
    "colab": {
      "provenance": []
    },
    "kernelspec": {
      "display_name": "Python 3",
      "name": "python3"
    },
    "language_info": {
      "name": "python"
    }
  },
  "nbformat": 4,
  "nbformat_minor": 0
}
